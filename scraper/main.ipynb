{
 "cells": [
  {
   "cell_type": "code",
   "execution_count": 114,
   "id": "3fbd6a30",
   "metadata": {},
   "outputs": [],
   "source": [
    "# Seleniumのインポート\n",
    "from selenium import webdriver\n",
    "from selenium.webdriver.common.by import By\n",
    "from selenium.webdriver.support.ui import WebDriverWait\n",
    "from selenium.webdriver.support import expected_conditions as EC\n",
    "import time\n",
    "import chromedriver_binary # ChromeDriverのバイナリを自動でダウンロード・パスを通す\n",
    "# BeautifulSoupのインポート\n",
    "from bs4 import BeautifulSoup\n",
    "import pandas as pd\n",
    "from tqdm import tqdm"
   ]
  },
  {
   "cell_type": "code",
   "execution_count": 115,
   "id": "1af9fd1a",
   "metadata": {},
   "outputs": [],
   "source": [
    "# Chromeドライバーの設定\n",
    "# ChromeDriverのオプションを設定\n",
    "# ヘッドレスモードを有効化して画面を表示しない\n",
    "options = webdriver.ChromeOptions()\n",
    "options.add_argument('--no-sandbox')\n",
    "options.add_argument('--disable-dev-shm-usage')\n",
    "options.add_argument('--headless')  # ヘッドレスモードを追加\n",
    "\n",
    "driver = webdriver.Chrome(options=options)\n"
   ]
  },
  {
   "cell_type": "code",
   "execution_count": 116,
   "id": "4ff80578",
   "metadata": {},
   "outputs": [],
   "source": [
    "try:\n",
    "    # スクレイピングしたいWebページのURLを指定 \n",
    "    url = \"https://exp-t.jp/account/login/expa\"  # スクレイピング対象のURLに変更してください\n",
    "    driver.get(url)\n",
    "    \n",
    "    # ページの読み込みを待機\n",
    "    wait = WebDriverWait(driver, 10)\n",
    "\n",
    "except Exception as e:\n",
    "    print(f\"エラーが発生しました: {e}\")"
   ]
  },
  {
   "cell_type": "code",
   "execution_count": 117,
   "id": "3c25d30a",
   "metadata": {},
   "outputs": [
    {
     "name": "stdout",
     "output_type": "stream",
     "text": [
      "IDの入力が完了しました\n"
     ]
    }
   ],
   "source": [
    "# ログイン情報の入力\n",
    "ID = \"sekaino.hiroshi34@gmail.com\"\n",
    "PASSWORD = \"h31503150h\"\n",
    "\n",
    "try:\n",
    "    # IDの入力\n",
    "    # id=\"loginId\" の要素が見つかるまで待機\n",
    "    id_element = wait.until(EC.presence_of_element_located((By.ID, \"MasterCustomerMail\")))\n",
    "    id_element.send_keys(ID)  # 実際のIDに変更してください\n",
    "    time.sleep(1)\n",
    "\n",
    "    # パスワードの入力 \n",
    "    # id=\"password\" の要素が見つかるまで待機\n",
    "    password_element = wait.until(EC.presence_of_element_located((By.ID, \"MasterCustomerPassword\")))\n",
    "    password_element.send_keys(PASSWORD)  # 実際のパスワードに変更してください\n",
    "    \n",
    "    time.sleep(1)\n",
    "    print(\"IDの入力が完了しました\")\n",
    "\n",
    "    # ログインボタンのクリック\n",
    "    login_button = wait.until(EC.element_to_be_clickable((By.CSS_SELECTOR, \"#LoginForm > div.user-login-btn.mb16 > button\")))\n",
    "    login_button.click()\n",
    "\n",
    "    time.sleep(1)\n",
    "\n",
    "except Exception as e:\n",
    "    print(f\"ログイン情報の入力中にエラーが発生しました: {e}\")\n"
   ]
  },
  {
   "cell_type": "code",
   "execution_count": 118,
   "id": "038ddbd1",
   "metadata": {},
   "outputs": [],
   "source": [
    "driver.get(\"https://exp-t.jp/e/event/calendar\")"
   ]
  },
  {
   "cell_type": "code",
   "execution_count": 119,
   "id": "4e6ab924",
   "metadata": {},
   "outputs": [],
   "source": [
    "result_df = pd.DataFrame()\n",
    "\n",
    "# ページのHTMLを取得\n",
    "html = driver.page_source\n",
    "\n",
    "# BeautifulSoup4で解析\n",
    "soup = BeautifulSoup(html, 'html.parser')\n",
    "schedules = soup.find(class_=\"mb30\")\n",
    "tables = schedules.find_all('table')"
   ]
  },
  {
   "cell_type": "code",
   "execution_count": 120,
   "id": "3a49b1e3",
   "metadata": {},
   "outputs": [
    {
     "name": "stderr",
     "output_type": "stream",
     "text": [
      " 50%|█████     | 7/14 [00:00<00:00, 1947.73it/s]"
     ]
    },
    {
     "name": "stdout",
     "output_type": "stream",
     "text": [
      "[<span class=\"c-yellow fw-b f11\"> / 入金済</span>, <span class=\"fw-b\">07/10<span>(木)</span> 12:00｜</span>, <span class=\"fw-b\">0</span>]\n",
      "[<span class=\"fw-b\">07/10<span>(木)</span> 20:00｜</span>, <span class=\"fw-b\">1</span>]\n",
      "[<span class=\"fw-b\">07/12<span class=\"c-blue\">(土)</span> 12:00｜</span>, <span class=\"fw-b\">1</span>]\n",
      "[<span class=\"fw-b\">07/13<span class=\"c-l-red\">(日)</span> 12:00｜</span>, <span class=\"fw-b\">1</span>]\n",
      "[<span class=\"fw-b\">07/13<span class=\"c-l-red\">(日)</span> 18:00｜</span>, <span class=\"fw-b\">0</span>]\n",
      "[<span class=\"fw-b\">07/15<span>(火)</span> 12:00｜</span>, <span class=\"fw-b\">0</span>]\n",
      "[<span class=\"fw-b\">07/15<span>(火)</span> 20:00｜</span>, <span class=\"fw-b\">2</span>]\n",
      "[<span class=\"fw-b\">0</span>]\n",
      "list index out of range\n"
     ]
    },
    {
     "name": "stderr",
     "output_type": "stream",
     "text": [
      "\n"
     ]
    },
    {
     "data": {
      "text/html": [
       "<div>\n",
       "<style scoped>\n",
       "    .dataframe tbody tr th:only-of-type {\n",
       "        vertical-align: middle;\n",
       "    }\n",
       "\n",
       "    .dataframe tbody tr th {\n",
       "        vertical-align: top;\n",
       "    }\n",
       "\n",
       "    .dataframe thead th {\n",
       "        text-align: right;\n",
       "    }\n",
       "</style>\n",
       "<table border=\"1\" class=\"dataframe\">\n",
       "  <thead>\n",
       "    <tr style=\"text-align: right;\">\n",
       "      <th></th>\n",
       "      <th>day</th>\n",
       "      <th>time</th>\n",
       "      <th>count</th>\n",
       "    </tr>\n",
       "  </thead>\n",
       "  <tbody>\n",
       "    <tr>\n",
       "      <th>0</th>\n",
       "      <td>07/10</td>\n",
       "      <td>12:00</td>\n",
       "      <td>0</td>\n",
       "    </tr>\n",
       "    <tr>\n",
       "      <th>1</th>\n",
       "      <td>07/10</td>\n",
       "      <td>20:00</td>\n",
       "      <td>1</td>\n",
       "    </tr>\n",
       "    <tr>\n",
       "      <th>2</th>\n",
       "      <td>07/12</td>\n",
       "      <td>12:00</td>\n",
       "      <td>1</td>\n",
       "    </tr>\n",
       "    <tr>\n",
       "      <th>3</th>\n",
       "      <td>07/13</td>\n",
       "      <td>12:00</td>\n",
       "      <td>1</td>\n",
       "    </tr>\n",
       "    <tr>\n",
       "      <th>4</th>\n",
       "      <td>07/13</td>\n",
       "      <td>18:00</td>\n",
       "      <td>0</td>\n",
       "    </tr>\n",
       "    <tr>\n",
       "      <th>5</th>\n",
       "      <td>07/15</td>\n",
       "      <td>12:00</td>\n",
       "      <td>0</td>\n",
       "    </tr>\n",
       "    <tr>\n",
       "      <th>6</th>\n",
       "      <td>07/15</td>\n",
       "      <td>20:00</td>\n",
       "      <td>2</td>\n",
       "    </tr>\n",
       "  </tbody>\n",
       "</table>\n",
       "</div>"
      ],
      "text/plain": [
       "     day   time count\n",
       "0  07/10  12:00     0\n",
       "1  07/10  20:00     1\n",
       "2  07/12  12:00     1\n",
       "3  07/13  12:00     1\n",
       "4  07/13  18:00     0\n",
       "5  07/15  12:00     0\n",
       "6  07/15  20:00     2"
      ]
     },
     "execution_count": 120,
     "metadata": {},
     "output_type": "execute_result"
    }
   ],
   "source": [
    "for table in tqdm(tables):\n",
    "    try:\n",
    "        elements = table.find_all(class_='fw-b')\n",
    "        print(elements)\n",
    "        date = elements[-2].get_text()\n",
    "        day = date.split('(')[0]\n",
    "        time = date.split(' ')[1].split('｜')[0]\n",
    "        count = elements[-1].get_text()\n",
    "        # day, time, countをDataFrameに変換\n",
    "        df = pd.DataFrame([[day, time, count]], columns=['day', 'time', 'count'])\n",
    "        result_df = pd.concat([result_df, df], ignore_index=True)\n",
    "    except Exception as e:\n",
    "        print(e)\n",
    "        break\n",
    "\n",
    "result_df"
   ]
  },
  {
   "cell_type": "code",
   "execution_count": 121,
   "id": "cdea49f5",
   "metadata": {},
   "outputs": [
    {
     "data": {
      "text/html": [
       "<div>\n",
       "<style scoped>\n",
       "    .dataframe tbody tr th:only-of-type {\n",
       "        vertical-align: middle;\n",
       "    }\n",
       "\n",
       "    .dataframe tbody tr th {\n",
       "        vertical-align: top;\n",
       "    }\n",
       "\n",
       "    .dataframe thead th {\n",
       "        text-align: right;\n",
       "    }\n",
       "</style>\n",
       "<table border=\"1\" class=\"dataframe\">\n",
       "  <thead>\n",
       "    <tr style=\"text-align: right;\">\n",
       "      <th></th>\n",
       "      <th>day</th>\n",
       "      <th>time</th>\n",
       "      <th>count</th>\n",
       "    </tr>\n",
       "  </thead>\n",
       "  <tbody>\n",
       "    <tr>\n",
       "      <th>0</th>\n",
       "      <td>07/10</td>\n",
       "      <td>12:00</td>\n",
       "      <td>0</td>\n",
       "    </tr>\n",
       "    <tr>\n",
       "      <th>1</th>\n",
       "      <td>07/10</td>\n",
       "      <td>20:00</td>\n",
       "      <td>1</td>\n",
       "    </tr>\n",
       "    <tr>\n",
       "      <th>2</th>\n",
       "      <td>07/12</td>\n",
       "      <td>12:00</td>\n",
       "      <td>1</td>\n",
       "    </tr>\n",
       "    <tr>\n",
       "      <th>3</th>\n",
       "      <td>07/13</td>\n",
       "      <td>12:00</td>\n",
       "      <td>1</td>\n",
       "    </tr>\n",
       "    <tr>\n",
       "      <th>4</th>\n",
       "      <td>07/13</td>\n",
       "      <td>18:00</td>\n",
       "      <td>0</td>\n",
       "    </tr>\n",
       "    <tr>\n",
       "      <th>5</th>\n",
       "      <td>07/15</td>\n",
       "      <td>12:00</td>\n",
       "      <td>0</td>\n",
       "    </tr>\n",
       "    <tr>\n",
       "      <th>6</th>\n",
       "      <td>07/15</td>\n",
       "      <td>20:00</td>\n",
       "      <td>2</td>\n",
       "    </tr>\n",
       "  </tbody>\n",
       "</table>\n",
       "</div>"
      ],
      "text/plain": [
       "     day   time count\n",
       "0  07/10  12:00     0\n",
       "1  07/10  20:00     1\n",
       "2  07/12  12:00     1\n",
       "3  07/13  12:00     1\n",
       "4  07/13  18:00     0\n",
       "5  07/15  12:00     0\n",
       "6  07/15  20:00     2"
      ]
     },
     "execution_count": 121,
     "metadata": {},
     "output_type": "execute_result"
    }
   ],
   "source": [
    "result_df"
   ]
  },
  {
   "cell_type": "code",
   "execution_count": null,
   "id": "c90ee1fb",
   "metadata": {},
   "outputs": [],
   "source": []
  }
 ],
 "metadata": {
  "kernelspec": {
   "display_name": "tf29",
   "language": "python",
   "name": "python3"
  },
  "language_info": {
   "codemirror_mode": {
    "name": "ipython",
    "version": 3
   },
   "file_extension": ".py",
   "mimetype": "text/x-python",
   "name": "python",
   "nbconvert_exporter": "python",
   "pygments_lexer": "ipython3",
   "version": "3.9.16"
  }
 },
 "nbformat": 4,
 "nbformat_minor": 5
}
